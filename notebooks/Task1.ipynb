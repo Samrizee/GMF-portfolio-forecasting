{
  "nbformat": 4,
  "nbformat_minor": 0,
  "metadata": {
    "colab": {
      "provenance": []
    },
    "kernelspec": {
      "name": "python3",
      "display_name": "Python 3"
    },
    "language_info": {
      "name": "python"
    }
  },
  "cells": [
    {
      "cell_type": "code",
      "execution_count": null,
      "metadata": {
        "id": "OFjMCo6XIm6d"
      },
      "outputs": [],
      "source": [
        "import yfinance as yf\n",
        "import pandas as pd"
      ]
    },
    {
      "cell_type": "code",
      "source": [
        "tickers = [\"TSLA\", \"BND\", \"SPY\"]\n",
        "start_date = \"2015-07-01\"\n",
        "end_date = \"2025-07-31\""
      ],
      "metadata": {
        "id": "j3fIWftrIvQ-"
      },
      "execution_count": null,
      "outputs": []
    },
    {
      "cell_type": "code",
      "source": [
        "data = yf.download(tickers, start=start_date, end=end_date)"
      ],
      "metadata": {
        "colab": {
          "base_uri": "https://localhost:8080/"
        },
        "id": "lsOlX__DIxT-",
        "outputId": "fd9555e4-1355-408c-df75-217d00aa0eba"
      },
      "execution_count": null,
      "outputs": [
        {
          "output_type": "stream",
          "name": "stderr",
          "text": [
            "/tmp/ipython-input-1289739165.py:1: FutureWarning: YF.download() has changed argument auto_adjust default to True\n",
            "  data = yf.download(tickers, start=start_date, end=end_date)\n",
            "[*********************100%***********************]  3 of 3 completed\n"
          ]
        }
      ]
    },
    {
      "cell_type": "code",
      "source": [
        "print(data.head())"
      ],
      "metadata": {
        "colab": {
          "base_uri": "https://localhost:8080/"
        },
        "id": "rCNVqCeMI3XF",
        "outputId": "eaea4be8-9699-4ca9-9e04-314811c04c60"
      },
      "execution_count": null,
      "outputs": [
        {
          "output_type": "stream",
          "name": "stdout",
          "text": [
            "Price           Close                              High              \\\n",
            "Ticker            BND         SPY       TSLA        BND         SPY   \n",
            "Date                                                                  \n",
            "2015-07-01  60.816750  174.917130  17.943333  60.914475  175.363905   \n",
            "2015-07-02  60.967083  174.756927  18.667999  61.027225  175.566188   \n",
            "2015-07-06  61.177586  174.259613  18.648001  61.222695  175.043573   \n",
            "2015-07-07  61.237717  175.355408  17.858667  61.470758  175.481849   \n",
            "2015-07-08  61.410610  172.413483  16.997334  61.463233  174.293311   \n",
            "\n",
            "Price                        Low                              Open  \\\n",
            "Ticker           TSLA        BND         SPY       TSLA        BND   \n",
            "Date                                                                 \n",
            "2015-07-01  18.174667  60.764127  174.124732  17.856667  60.794198   \n",
            "2015-07-02  18.830000  60.937012  174.335441  18.220667  60.937012   \n",
            "2015-07-06  18.779333  61.057308  173.256472  18.420000  61.222695   \n",
            "2015-07-07  18.346666  61.237717  172.059377  17.384666  61.410622   \n",
            "2015-07-08  17.386667  61.312879  172.177451  16.954000  61.373020   \n",
            "\n",
            "Price                               Volume                        \n",
            "Ticker             SPY       TSLA      BND        SPY       TSLA  \n",
            "Date                                                              \n",
            "2015-07-01  175.111010  18.073999  5399300  135979900   31518000  \n",
            "2015-07-02  175.397596  18.680000  1060100  104373700  107458500  \n",
            "2015-07-06  173.458790  18.591999  2210700  117975400   61828500  \n",
            "2015-07-07  174.461858  18.333332  4183200  173820200   91576500  \n",
            "2015-07-08  174.006703  17.288000  1967800  164020100   93316500  \n"
          ]
        }
      ]
    },
    {
      "cell_type": "code",
      "source": [
        "data.to_csv(\"financial_data.csv\")"
      ],
      "metadata": {
        "id": "7Bl5zupZI-9h"
      },
      "execution_count": null,
      "outputs": []
    },
    {
      "cell_type": "code",
      "source": [
        "!ls"
      ],
      "metadata": {
        "colab": {
          "base_uri": "https://localhost:8080/"
        },
        "id": "PtclylnUJB1k",
        "outputId": "7a589b8a-2ffd-49a9-81e1-66a6f31c55f9"
      },
      "execution_count": null,
      "outputs": [
        {
          "output_type": "stream",
          "name": "stdout",
          "text": [
            "financial_data.csv  sample_data\n"
          ]
        }
      ]
    },
    {
      "cell_type": "code",
      "source": [
        "from google.colab import drive\n",
        "drive.mount('/content/drive')"
      ],
      "metadata": {
        "colab": {
          "base_uri": "https://localhost:8080/"
        },
        "id": "RRZwiEbpJwbj",
        "outputId": "914bf53c-ab96-415b-c018-40fa17051b27"
      },
      "execution_count": null,
      "outputs": [
        {
          "output_type": "stream",
          "name": "stdout",
          "text": [
            "Mounted at /content/drive\n"
          ]
        }
      ]
    },
    {
      "cell_type": "code",
      "source": [
        "data.to_csv('/content/drive/MyDrive/financial_data.csv')"
      ],
      "metadata": {
        "id": "OiGX3m4IJ4ss"
      },
      "execution_count": null,
      "outputs": []
    },
    {
      "cell_type": "code",
      "source": [
        "file_path = \"/content/drive/MyDrive/financial_data.csv\""
      ],
      "metadata": {
        "id": "HItD_vBsKIl1"
      },
      "execution_count": null,
      "outputs": []
    },
    {
      "cell_type": "code",
      "source": [
        "df = pd.read_csv(file_path, header=[0, 1], index_col=0, parse_dates=True)"
      ],
      "metadata": {
        "id": "CtKsBGxrKJU0"
      },
      "execution_count": null,
      "outputs": []
    },
    {
      "cell_type": "code",
      "source": [
        "print(df.head())"
      ],
      "metadata": {
        "colab": {
          "base_uri": "https://localhost:8080/"
        },
        "id": "_mFYevXUKOAh",
        "outputId": "48fbc642-e2e7-4a02-be15-1d45a889843e"
      },
      "execution_count": null,
      "outputs": [
        {
          "output_type": "stream",
          "name": "stdout",
          "text": [
            "Price           Close                              High              \\\n",
            "Ticker            BND         SPY       TSLA        BND         SPY   \n",
            "Date                                                                  \n",
            "2015-07-01  60.816750  174.917130  17.943333  60.914475  175.363905   \n",
            "2015-07-02  60.967083  174.756927  18.667999  61.027225  175.566188   \n",
            "2015-07-06  61.177586  174.259613  18.648001  61.222695  175.043573   \n",
            "2015-07-07  61.237717  175.355408  17.858667  61.470758  175.481849   \n",
            "2015-07-08  61.410610  172.413483  16.997334  61.463233  174.293311   \n",
            "\n",
            "Price                        Low                              Open  \\\n",
            "Ticker           TSLA        BND         SPY       TSLA        BND   \n",
            "Date                                                                 \n",
            "2015-07-01  18.174667  60.764127  174.124732  17.856667  60.794198   \n",
            "2015-07-02  18.830000  60.937012  174.335441  18.220667  60.937012   \n",
            "2015-07-06  18.779333  61.057308  173.256472  18.420000  61.222695   \n",
            "2015-07-07  18.346666  61.237717  172.059377  17.384666  61.410622   \n",
            "2015-07-08  17.386667  61.312879  172.177451  16.954000  61.373020   \n",
            "\n",
            "Price                               Volume                        \n",
            "Ticker             SPY       TSLA      BND        SPY       TSLA  \n",
            "Date                                                              \n",
            "2015-07-01  175.111010  18.073999  5399300  135979900   31518000  \n",
            "2015-07-02  175.397596  18.680000  1060100  104373700  107458500  \n",
            "2015-07-06  173.458790  18.591999  2210700  117975400   61828500  \n",
            "2015-07-07  174.461858  18.333332  4183200  173820200   91576500  \n",
            "2015-07-08  174.006703  17.288000  1967800  164020100   93316500  \n"
          ]
        }
      ]
    },
    {
      "cell_type": "code",
      "source": [
        "df.columns"
      ],
      "metadata": {
        "colab": {
          "base_uri": "https://localhost:8080/"
        },
        "id": "XKLKg6aiKQ3s",
        "outputId": "29ebe5bd-b268-4f01-f8a7-12fc3e413095"
      },
      "execution_count": null,
      "outputs": [
        {
          "output_type": "execute_result",
          "data": {
            "text/plain": [
              "MultiIndex([( 'Close',  'BND'),\n",
              "            ( 'Close',  'SPY'),\n",
              "            ( 'Close', 'TSLA'),\n",
              "            (  'High',  'BND'),\n",
              "            (  'High',  'SPY'),\n",
              "            (  'High', 'TSLA'),\n",
              "            (   'Low',  'BND'),\n",
              "            (   'Low',  'SPY'),\n",
              "            (   'Low', 'TSLA'),\n",
              "            (  'Open',  'BND'),\n",
              "            (  'Open',  'SPY'),\n",
              "            (  'Open', 'TSLA'),\n",
              "            ('Volume',  'BND'),\n",
              "            ('Volume',  'SPY'),\n",
              "            ('Volume', 'TSLA')],\n",
              "           names=['Price', 'Ticker'])"
            ]
          },
          "metadata": {},
          "execution_count": 13
        }
      ]
    },
    {
      "cell_type": "code",
      "source": [
        "df.columns = [f\"{ticker}_{price}\" for price, ticker in df.columns]"
      ],
      "metadata": {
        "id": "eD-y6_keKtyh"
      },
      "execution_count": null,
      "outputs": []
    },
    {
      "cell_type": "code",
      "source": [
        "df = df.reset_index()"
      ],
      "metadata": {
        "id": "Zl50II4fKzHL"
      },
      "execution_count": null,
      "outputs": []
    },
    {
      "cell_type": "code",
      "source": [
        "print(df.head())"
      ],
      "metadata": {
        "colab": {
          "base_uri": "https://localhost:8080/"
        },
        "id": "H3D_gKfBK3RS",
        "outputId": "80d96816-4a6d-4bcb-ca29-70614aa41121"
      },
      "execution_count": null,
      "outputs": [
        {
          "output_type": "stream",
          "name": "stdout",
          "text": [
            "        Date  BND_Close   SPY_Close  TSLA_Close   BND_High    SPY_High  \\\n",
            "0 2015-07-01  60.816750  174.917130   17.943333  60.914475  175.363905   \n",
            "1 2015-07-02  60.967083  174.756927   18.667999  61.027225  175.566188   \n",
            "2 2015-07-06  61.177586  174.259613   18.648001  61.222695  175.043573   \n",
            "3 2015-07-07  61.237717  175.355408   17.858667  61.470758  175.481849   \n",
            "4 2015-07-08  61.410610  172.413483   16.997334  61.463233  174.293311   \n",
            "\n",
            "   TSLA_High    BND_Low     SPY_Low   TSLA_Low   BND_Open    SPY_Open  \\\n",
            "0  18.174667  60.764127  174.124732  17.856667  60.794198  175.111010   \n",
            "1  18.830000  60.937012  174.335441  18.220667  60.937012  175.397596   \n",
            "2  18.779333  61.057308  173.256472  18.420000  61.222695  173.458790   \n",
            "3  18.346666  61.237717  172.059377  17.384666  61.410622  174.461858   \n",
            "4  17.386667  61.312879  172.177451  16.954000  61.373020  174.006703   \n",
            "\n",
            "   TSLA_Open  BND_Volume  SPY_Volume  TSLA_Volume  \n",
            "0  18.073999     5399300   135979900     31518000  \n",
            "1  18.680000     1060100   104373700    107458500  \n",
            "2  18.591999     2210700   117975400     61828500  \n",
            "3  18.333332     4183200   173820200     91576500  \n",
            "4  17.288000     1967800   164020100     93316500  \n"
          ]
        }
      ]
    },
    {
      "cell_type": "code",
      "source": [
        "df.columns"
      ],
      "metadata": {
        "colab": {
          "base_uri": "https://localhost:8080/"
        },
        "id": "9AJ5q_cqK58O",
        "outputId": "7a1d3032-f454-4db8-ddbb-6ac658427c19"
      },
      "execution_count": null,
      "outputs": [
        {
          "output_type": "execute_result",
          "data": {
            "text/plain": [
              "Index(['Date', 'BND_Close', 'SPY_Close', 'TSLA_Close', 'BND_High', 'SPY_High',\n",
              "       'TSLA_High', 'BND_Low', 'SPY_Low', 'TSLA_Low', 'BND_Open', 'SPY_Open',\n",
              "       'TSLA_Open', 'BND_Volume', 'SPY_Volume', 'TSLA_Volume'],\n",
              "      dtype='object')"
            ]
          },
          "metadata": {},
          "execution_count": 17
        }
      ]
    },
    {
      "cell_type": "markdown",
      "source": [
        "Data Exploration (EDA)"
      ],
      "metadata": {
        "id": "c7_JlTI7Lbf3"
      }
    },
    {
      "cell_type": "code",
      "source": [
        "df.describe()"
      ],
      "metadata": {
        "colab": {
          "base_uri": "https://localhost:8080/",
          "height": 424
        },
        "id": "01pBXAA3LOVR",
        "outputId": "cc058504-8db5-4e3e-99f6-67b9559ae390"
      },
      "execution_count": null,
      "outputs": [
        {
          "output_type": "execute_result",
          "data": {
            "text/plain": [
              "                                Date    BND_Close    SPY_Close   TSLA_Close  \\\n",
              "count                           2535  2535.000000  2535.000000  2535.000000   \n",
              "mean   2020-07-12 16:49:59.289940992    68.469189   334.193732   131.963002   \n",
              "min              2015-07-01 00:00:00    60.779148   155.869736     9.578000   \n",
              "25%              2018-01-04 12:00:00    64.654343   230.083191    18.967667   \n",
              "50%              2020-07-14 00:00:00    67.604889   305.264313    94.571335   \n",
              "75%              2023-01-18 12:00:00    71.891121   420.350510   236.761665   \n",
              "max              2025-07-30 00:00:00    77.318230   637.099976   479.859985   \n",
              "std                              NaN     4.554602   126.427704   120.914904   \n",
              "\n",
              "          BND_High     SPY_High    TSLA_High      BND_Low      SPY_Low  \\\n",
              "count  2535.000000  2535.000000  2535.000000  2535.000000  2535.000000   \n",
              "mean     68.571174   335.981617   134.960429    68.364920   332.114635   \n",
              "min      60.899431   156.926716    10.331333    60.764127   153.758426   \n",
              "25%      64.731223   234.024909    19.279667    64.570641   228.661726   \n",
              "50%      67.749368   306.143473    97.666664    67.474073   302.033039   \n",
              "75%      72.018947   423.114867   240.881668    71.780707   417.754453   \n",
              "max      77.413314   638.669983   488.540009    77.283666   635.539978   \n",
              "std       4.563590   127.053089   123.783736     4.544724   125.661287   \n",
              "\n",
              "          TSLA_Low     BND_Open     SPY_Open    TSLA_Open    BND_Volume  \\\n",
              "count  2535.000000  2535.000000  2535.000000  2535.000000  2.535000e+03   \n",
              "mean    128.837831    68.471392   334.125537   132.000600  4.434376e+06   \n",
              "min       9.403333    60.786667   155.426484     9.488000  0.000000e+00   \n",
              "25%      18.575334    64.660606   231.007847    18.901000  2.182050e+06   \n",
              "50%      91.734001    67.589058   304.714982    94.400665  4.121100e+06   \n",
              "75%     232.170006    71.886204   420.117436   235.851669  5.890100e+06   \n",
              "max     457.510010    77.378757   638.349976   475.899994  3.396300e+07   \n",
              "std     117.996631     4.555994   126.391138   121.034152  2.899511e+06   \n",
              "\n",
              "         SPY_Volume   TSLA_Volume  \n",
              "count  2.535000e+03  2.535000e+03  \n",
              "mean   8.503521e+07  1.141789e+08  \n",
              "min    2.027000e+07  1.062000e+07  \n",
              "25%    5.779150e+07  6.908220e+07  \n",
              "50%    7.451530e+07  9.537450e+07  \n",
              "75%    9.789180e+07  1.322551e+08  \n",
              "max    5.072443e+08  9.140820e+08  \n",
              "std    4.428796e+07  7.332146e+07  "
            ],
            "text/html": [
              "\n",
              "  <div id=\"df-d2ca88cb-8820-4e77-99e5-9dd093d26b63\" class=\"colab-df-container\">\n",
              "    <div>\n",
              "<style scoped>\n",
              "    .dataframe tbody tr th:only-of-type {\n",
              "        vertical-align: middle;\n",
              "    }\n",
              "\n",
              "    .dataframe tbody tr th {\n",
              "        vertical-align: top;\n",
              "    }\n",
              "\n",
              "    .dataframe thead th {\n",
              "        text-align: right;\n",
              "    }\n",
              "</style>\n",
              "<table border=\"1\" class=\"dataframe\">\n",
              "  <thead>\n",
              "    <tr style=\"text-align: right;\">\n",
              "      <th></th>\n",
              "      <th>Date</th>\n",
              "      <th>BND_Close</th>\n",
              "      <th>SPY_Close</th>\n",
              "      <th>TSLA_Close</th>\n",
              "      <th>BND_High</th>\n",
              "      <th>SPY_High</th>\n",
              "      <th>TSLA_High</th>\n",
              "      <th>BND_Low</th>\n",
              "      <th>SPY_Low</th>\n",
              "      <th>TSLA_Low</th>\n",
              "      <th>BND_Open</th>\n",
              "      <th>SPY_Open</th>\n",
              "      <th>TSLA_Open</th>\n",
              "      <th>BND_Volume</th>\n",
              "      <th>SPY_Volume</th>\n",
              "      <th>TSLA_Volume</th>\n",
              "    </tr>\n",
              "  </thead>\n",
              "  <tbody>\n",
              "    <tr>\n",
              "      <th>count</th>\n",
              "      <td>2535</td>\n",
              "      <td>2535.000000</td>\n",
              "      <td>2535.000000</td>\n",
              "      <td>2535.000000</td>\n",
              "      <td>2535.000000</td>\n",
              "      <td>2535.000000</td>\n",
              "      <td>2535.000000</td>\n",
              "      <td>2535.000000</td>\n",
              "      <td>2535.000000</td>\n",
              "      <td>2535.000000</td>\n",
              "      <td>2535.000000</td>\n",
              "      <td>2535.000000</td>\n",
              "      <td>2535.000000</td>\n",
              "      <td>2.535000e+03</td>\n",
              "      <td>2.535000e+03</td>\n",
              "      <td>2.535000e+03</td>\n",
              "    </tr>\n",
              "    <tr>\n",
              "      <th>mean</th>\n",
              "      <td>2020-07-12 16:49:59.289940992</td>\n",
              "      <td>68.469189</td>\n",
              "      <td>334.193732</td>\n",
              "      <td>131.963002</td>\n",
              "      <td>68.571174</td>\n",
              "      <td>335.981617</td>\n",
              "      <td>134.960429</td>\n",
              "      <td>68.364920</td>\n",
              "      <td>332.114635</td>\n",
              "      <td>128.837831</td>\n",
              "      <td>68.471392</td>\n",
              "      <td>334.125537</td>\n",
              "      <td>132.000600</td>\n",
              "      <td>4.434376e+06</td>\n",
              "      <td>8.503521e+07</td>\n",
              "      <td>1.141789e+08</td>\n",
              "    </tr>\n",
              "    <tr>\n",
              "      <th>min</th>\n",
              "      <td>2015-07-01 00:00:00</td>\n",
              "      <td>60.779148</td>\n",
              "      <td>155.869736</td>\n",
              "      <td>9.578000</td>\n",
              "      <td>60.899431</td>\n",
              "      <td>156.926716</td>\n",
              "      <td>10.331333</td>\n",
              "      <td>60.764127</td>\n",
              "      <td>153.758426</td>\n",
              "      <td>9.403333</td>\n",
              "      <td>60.786667</td>\n",
              "      <td>155.426484</td>\n",
              "      <td>9.488000</td>\n",
              "      <td>0.000000e+00</td>\n",
              "      <td>2.027000e+07</td>\n",
              "      <td>1.062000e+07</td>\n",
              "    </tr>\n",
              "    <tr>\n",
              "      <th>25%</th>\n",
              "      <td>2018-01-04 12:00:00</td>\n",
              "      <td>64.654343</td>\n",
              "      <td>230.083191</td>\n",
              "      <td>18.967667</td>\n",
              "      <td>64.731223</td>\n",
              "      <td>234.024909</td>\n",
              "      <td>19.279667</td>\n",
              "      <td>64.570641</td>\n",
              "      <td>228.661726</td>\n",
              "      <td>18.575334</td>\n",
              "      <td>64.660606</td>\n",
              "      <td>231.007847</td>\n",
              "      <td>18.901000</td>\n",
              "      <td>2.182050e+06</td>\n",
              "      <td>5.779150e+07</td>\n",
              "      <td>6.908220e+07</td>\n",
              "    </tr>\n",
              "    <tr>\n",
              "      <th>50%</th>\n",
              "      <td>2020-07-14 00:00:00</td>\n",
              "      <td>67.604889</td>\n",
              "      <td>305.264313</td>\n",
              "      <td>94.571335</td>\n",
              "      <td>67.749368</td>\n",
              "      <td>306.143473</td>\n",
              "      <td>97.666664</td>\n",
              "      <td>67.474073</td>\n",
              "      <td>302.033039</td>\n",
              "      <td>91.734001</td>\n",
              "      <td>67.589058</td>\n",
              "      <td>304.714982</td>\n",
              "      <td>94.400665</td>\n",
              "      <td>4.121100e+06</td>\n",
              "      <td>7.451530e+07</td>\n",
              "      <td>9.537450e+07</td>\n",
              "    </tr>\n",
              "    <tr>\n",
              "      <th>75%</th>\n",
              "      <td>2023-01-18 12:00:00</td>\n",
              "      <td>71.891121</td>\n",
              "      <td>420.350510</td>\n",
              "      <td>236.761665</td>\n",
              "      <td>72.018947</td>\n",
              "      <td>423.114867</td>\n",
              "      <td>240.881668</td>\n",
              "      <td>71.780707</td>\n",
              "      <td>417.754453</td>\n",
              "      <td>232.170006</td>\n",
              "      <td>71.886204</td>\n",
              "      <td>420.117436</td>\n",
              "      <td>235.851669</td>\n",
              "      <td>5.890100e+06</td>\n",
              "      <td>9.789180e+07</td>\n",
              "      <td>1.322551e+08</td>\n",
              "    </tr>\n",
              "    <tr>\n",
              "      <th>max</th>\n",
              "      <td>2025-07-30 00:00:00</td>\n",
              "      <td>77.318230</td>\n",
              "      <td>637.099976</td>\n",
              "      <td>479.859985</td>\n",
              "      <td>77.413314</td>\n",
              "      <td>638.669983</td>\n",
              "      <td>488.540009</td>\n",
              "      <td>77.283666</td>\n",
              "      <td>635.539978</td>\n",
              "      <td>457.510010</td>\n",
              "      <td>77.378757</td>\n",
              "      <td>638.349976</td>\n",
              "      <td>475.899994</td>\n",
              "      <td>3.396300e+07</td>\n",
              "      <td>5.072443e+08</td>\n",
              "      <td>9.140820e+08</td>\n",
              "    </tr>\n",
              "    <tr>\n",
              "      <th>std</th>\n",
              "      <td>NaN</td>\n",
              "      <td>4.554602</td>\n",
              "      <td>126.427704</td>\n",
              "      <td>120.914904</td>\n",
              "      <td>4.563590</td>\n",
              "      <td>127.053089</td>\n",
              "      <td>123.783736</td>\n",
              "      <td>4.544724</td>\n",
              "      <td>125.661287</td>\n",
              "      <td>117.996631</td>\n",
              "      <td>4.555994</td>\n",
              "      <td>126.391138</td>\n",
              "      <td>121.034152</td>\n",
              "      <td>2.899511e+06</td>\n",
              "      <td>4.428796e+07</td>\n",
              "      <td>7.332146e+07</td>\n",
              "    </tr>\n",
              "  </tbody>\n",
              "</table>\n",
              "</div>\n",
              "    <div class=\"colab-df-buttons\">\n",
              "\n",
              "  <div class=\"colab-df-container\">\n",
              "    <button class=\"colab-df-convert\" onclick=\"convertToInteractive('df-d2ca88cb-8820-4e77-99e5-9dd093d26b63')\"\n",
              "            title=\"Convert this dataframe to an interactive table.\"\n",
              "            style=\"display:none;\">\n",
              "\n",
              "  <svg xmlns=\"http://www.w3.org/2000/svg\" height=\"24px\" viewBox=\"0 -960 960 960\">\n",
              "    <path d=\"M120-120v-720h720v720H120Zm60-500h600v-160H180v160Zm220 220h160v-160H400v160Zm0 220h160v-160H400v160ZM180-400h160v-160H180v160Zm440 0h160v-160H620v160ZM180-180h160v-160H180v160Zm440 0h160v-160H620v160Z\"/>\n",
              "  </svg>\n",
              "    </button>\n",
              "\n",
              "  <style>\n",
              "    .colab-df-container {\n",
              "      display:flex;\n",
              "      gap: 12px;\n",
              "    }\n",
              "\n",
              "    .colab-df-convert {\n",
              "      background-color: #E8F0FE;\n",
              "      border: none;\n",
              "      border-radius: 50%;\n",
              "      cursor: pointer;\n",
              "      display: none;\n",
              "      fill: #1967D2;\n",
              "      height: 32px;\n",
              "      padding: 0 0 0 0;\n",
              "      width: 32px;\n",
              "    }\n",
              "\n",
              "    .colab-df-convert:hover {\n",
              "      background-color: #E2EBFA;\n",
              "      box-shadow: 0px 1px 2px rgba(60, 64, 67, 0.3), 0px 1px 3px 1px rgba(60, 64, 67, 0.15);\n",
              "      fill: #174EA6;\n",
              "    }\n",
              "\n",
              "    .colab-df-buttons div {\n",
              "      margin-bottom: 4px;\n",
              "    }\n",
              "\n",
              "    [theme=dark] .colab-df-convert {\n",
              "      background-color: #3B4455;\n",
              "      fill: #D2E3FC;\n",
              "    }\n",
              "\n",
              "    [theme=dark] .colab-df-convert:hover {\n",
              "      background-color: #434B5C;\n",
              "      box-shadow: 0px 1px 3px 1px rgba(0, 0, 0, 0.15);\n",
              "      filter: drop-shadow(0px 1px 2px rgba(0, 0, 0, 0.3));\n",
              "      fill: #FFFFFF;\n",
              "    }\n",
              "  </style>\n",
              "\n",
              "    <script>\n",
              "      const buttonEl =\n",
              "        document.querySelector('#df-d2ca88cb-8820-4e77-99e5-9dd093d26b63 button.colab-df-convert');\n",
              "      buttonEl.style.display =\n",
              "        google.colab.kernel.accessAllowed ? 'block' : 'none';\n",
              "\n",
              "      async function convertToInteractive(key) {\n",
              "        const element = document.querySelector('#df-d2ca88cb-8820-4e77-99e5-9dd093d26b63');\n",
              "        const dataTable =\n",
              "          await google.colab.kernel.invokeFunction('convertToInteractive',\n",
              "                                                    [key], {});\n",
              "        if (!dataTable) return;\n",
              "\n",
              "        const docLinkHtml = 'Like what you see? Visit the ' +\n",
              "          '<a target=\"_blank\" href=https://colab.research.google.com/notebooks/data_table.ipynb>data table notebook</a>'\n",
              "          + ' to learn more about interactive tables.';\n",
              "        element.innerHTML = '';\n",
              "        dataTable['output_type'] = 'display_data';\n",
              "        await google.colab.output.renderOutput(dataTable, element);\n",
              "        const docLink = document.createElement('div');\n",
              "        docLink.innerHTML = docLinkHtml;\n",
              "        element.appendChild(docLink);\n",
              "      }\n",
              "    </script>\n",
              "  </div>\n",
              "\n",
              "\n",
              "    <div id=\"df-bf60bafa-3cd0-494d-83f9-cee69e0e6f60\">\n",
              "      <button class=\"colab-df-quickchart\" onclick=\"quickchart('df-bf60bafa-3cd0-494d-83f9-cee69e0e6f60')\"\n",
              "                title=\"Suggest charts\"\n",
              "                style=\"display:none;\">\n",
              "\n",
              "<svg xmlns=\"http://www.w3.org/2000/svg\" height=\"24px\"viewBox=\"0 0 24 24\"\n",
              "     width=\"24px\">\n",
              "    <g>\n",
              "        <path d=\"M19 3H5c-1.1 0-2 .9-2 2v14c0 1.1.9 2 2 2h14c1.1 0 2-.9 2-2V5c0-1.1-.9-2-2-2zM9 17H7v-7h2v7zm4 0h-2V7h2v10zm4 0h-2v-4h2v4z\"/>\n",
              "    </g>\n",
              "</svg>\n",
              "      </button>\n",
              "\n",
              "<style>\n",
              "  .colab-df-quickchart {\n",
              "      --bg-color: #E8F0FE;\n",
              "      --fill-color: #1967D2;\n",
              "      --hover-bg-color: #E2EBFA;\n",
              "      --hover-fill-color: #174EA6;\n",
              "      --disabled-fill-color: #AAA;\n",
              "      --disabled-bg-color: #DDD;\n",
              "  }\n",
              "\n",
              "  [theme=dark] .colab-df-quickchart {\n",
              "      --bg-color: #3B4455;\n",
              "      --fill-color: #D2E3FC;\n",
              "      --hover-bg-color: #434B5C;\n",
              "      --hover-fill-color: #FFFFFF;\n",
              "      --disabled-bg-color: #3B4455;\n",
              "      --disabled-fill-color: #666;\n",
              "  }\n",
              "\n",
              "  .colab-df-quickchart {\n",
              "    background-color: var(--bg-color);\n",
              "    border: none;\n",
              "    border-radius: 50%;\n",
              "    cursor: pointer;\n",
              "    display: none;\n",
              "    fill: var(--fill-color);\n",
              "    height: 32px;\n",
              "    padding: 0;\n",
              "    width: 32px;\n",
              "  }\n",
              "\n",
              "  .colab-df-quickchart:hover {\n",
              "    background-color: var(--hover-bg-color);\n",
              "    box-shadow: 0 1px 2px rgba(60, 64, 67, 0.3), 0 1px 3px 1px rgba(60, 64, 67, 0.15);\n",
              "    fill: var(--button-hover-fill-color);\n",
              "  }\n",
              "\n",
              "  .colab-df-quickchart-complete:disabled,\n",
              "  .colab-df-quickchart-complete:disabled:hover {\n",
              "    background-color: var(--disabled-bg-color);\n",
              "    fill: var(--disabled-fill-color);\n",
              "    box-shadow: none;\n",
              "  }\n",
              "\n",
              "  .colab-df-spinner {\n",
              "    border: 2px solid var(--fill-color);\n",
              "    border-color: transparent;\n",
              "    border-bottom-color: var(--fill-color);\n",
              "    animation:\n",
              "      spin 1s steps(1) infinite;\n",
              "  }\n",
              "\n",
              "  @keyframes spin {\n",
              "    0% {\n",
              "      border-color: transparent;\n",
              "      border-bottom-color: var(--fill-color);\n",
              "      border-left-color: var(--fill-color);\n",
              "    }\n",
              "    20% {\n",
              "      border-color: transparent;\n",
              "      border-left-color: var(--fill-color);\n",
              "      border-top-color: var(--fill-color);\n",
              "    }\n",
              "    30% {\n",
              "      border-color: transparent;\n",
              "      border-left-color: var(--fill-color);\n",
              "      border-top-color: var(--fill-color);\n",
              "      border-right-color: var(--fill-color);\n",
              "    }\n",
              "    40% {\n",
              "      border-color: transparent;\n",
              "      border-right-color: var(--fill-color);\n",
              "      border-top-color: var(--fill-color);\n",
              "    }\n",
              "    60% {\n",
              "      border-color: transparent;\n",
              "      border-right-color: var(--fill-color);\n",
              "    }\n",
              "    80% {\n",
              "      border-color: transparent;\n",
              "      border-right-color: var(--fill-color);\n",
              "      border-bottom-color: var(--fill-color);\n",
              "    }\n",
              "    90% {\n",
              "      border-color: transparent;\n",
              "      border-bottom-color: var(--fill-color);\n",
              "    }\n",
              "  }\n",
              "</style>\n",
              "\n",
              "      <script>\n",
              "        async function quickchart(key) {\n",
              "          const quickchartButtonEl =\n",
              "            document.querySelector('#' + key + ' button');\n",
              "          quickchartButtonEl.disabled = true;  // To prevent multiple clicks.\n",
              "          quickchartButtonEl.classList.add('colab-df-spinner');\n",
              "          try {\n",
              "            const charts = await google.colab.kernel.invokeFunction(\n",
              "                'suggestCharts', [key], {});\n",
              "          } catch (error) {\n",
              "            console.error('Error during call to suggestCharts:', error);\n",
              "          }\n",
              "          quickchartButtonEl.classList.remove('colab-df-spinner');\n",
              "          quickchartButtonEl.classList.add('colab-df-quickchart-complete');\n",
              "        }\n",
              "        (() => {\n",
              "          let quickchartButtonEl =\n",
              "            document.querySelector('#df-bf60bafa-3cd0-494d-83f9-cee69e0e6f60 button');\n",
              "          quickchartButtonEl.style.display =\n",
              "            google.colab.kernel.accessAllowed ? 'block' : 'none';\n",
              "        })();\n",
              "      </script>\n",
              "    </div>\n",
              "\n",
              "    </div>\n",
              "  </div>\n"
            ],
            "application/vnd.google.colaboratory.intrinsic+json": {
              "type": "dataframe",
              "summary": "{\n  \"name\": \"df\",\n  \"rows\": 8,\n  \"fields\": [\n    {\n      \"column\": \"Date\",\n      \"properties\": {\n        \"dtype\": \"date\",\n        \"min\": \"1970-01-01 00:00:00.000002535\",\n        \"max\": \"2025-07-30 00:00:00\",\n        \"num_unique_values\": 7,\n        \"samples\": [\n          \"2535\",\n          \"2020-07-12 16:49:59.289940992\",\n          \"2023-01-18 12:00:00\"\n        ],\n        \"semantic_type\": \"\",\n        \"description\": \"\"\n      }\n    },\n    {\n      \"column\": \"BND_Close\",\n      \"properties\": {\n        \"dtype\": \"number\",\n        \"std\": 875.5824323016864,\n        \"min\": 4.554601595031907,\n        \"max\": 2535.0,\n        \"num_unique_values\": 8,\n        \"samples\": [\n          68.46918881207529,\n          71.89112091064453,\n          2535.0\n        ],\n        \"semantic_type\": \"\",\n        \"description\": \"\"\n      }\n    },\n    {\n      \"column\": \"SPY_Close\",\n      \"properties\": {\n        \"dtype\": \"number\",\n        \"std\": 801.1928909772842,\n        \"min\": 126.42770394151229,\n        \"max\": 2535.0,\n        \"num_unique_values\": 8,\n        \"samples\": [\n          334.1937316894531,\n          420.3505096435547,\n          2535.0\n        ],\n        \"semantic_type\": \"\",\n        \"description\": \"\"\n      }\n    },\n    {\n      \"column\": \"TSLA_Close\",\n      \"properties\": {\n        \"dtype\": \"number\",\n        \"std\": 854.3189727708666,\n        \"min\": 9.57800006866455,\n        \"max\": 2535.0,\n        \"num_unique_values\": 8,\n        \"samples\": [\n          131.96300195020567,\n          236.76166534423828,\n          2535.0\n        ],\n        \"semantic_type\": \"\",\n        \"description\": \"\"\n      }\n    },\n    {\n      \"column\": \"BND_High\",\n      \"properties\": {\n        \"dtype\": \"number\",\n        \"std\": 875.5492293665594,\n        \"min\": 4.563590021959399,\n        \"max\": 2535.0,\n        \"num_unique_values\": 8,\n        \"samples\": [\n          68.57117442201645,\n          72.01894660232253,\n          2535.0\n        ],\n        \"semantic_type\": \"\",\n        \"description\": \"\"\n      }\n    },\n    {\n      \"column\": \"SPY_High\",\n      \"properties\": {\n        \"dtype\": \"number\",\n        \"std\": 800.6037474349301,\n        \"min\": 127.05308904507643,\n        \"max\": 2535.0,\n        \"num_unique_values\": 8,\n        \"samples\": [\n          335.9816173897528,\n          423.1148665198681,\n          2535.0\n        ],\n        \"semantic_type\": \"\",\n        \"description\": \"\"\n      }\n    },\n    {\n      \"column\": \"TSLA_High\",\n      \"properties\": {\n        \"dtype\": \"number\",\n        \"std\": 853.6273061520433,\n        \"min\": 10.33133316040039,\n        \"max\": 2535.0,\n        \"num_unique_values\": 8,\n        \"samples\": [\n          134.96042882516775,\n          240.88166809082028,\n          2535.0\n        ],\n        \"semantic_type\": \"\",\n        \"description\": \"\"\n      }\n    },\n    {\n      \"column\": \"BND_Low\",\n      \"properties\": {\n        \"dtype\": \"number\",\n        \"std\": 875.6064580674946,\n        \"min\": 4.544723835086529,\n        \"max\": 2535.0,\n        \"num_unique_values\": 8,\n        \"samples\": [\n          68.36491993412076,\n          71.7807074821956,\n          2535.0\n        ],\n        \"semantic_type\": \"\",\n        \"description\": \"\"\n      }\n    },\n    {\n      \"column\": \"SPY_Low\",\n      \"properties\": {\n        \"dtype\": \"number\",\n        \"std\": 801.8430472366346,\n        \"min\": 125.66128661772517,\n        \"max\": 2535.0,\n        \"num_unique_values\": 8,\n        \"samples\": [\n          332.114634647148,\n          417.7544529982928,\n          2535.0\n        ],\n        \"semantic_type\": \"\",\n        \"description\": \"\"\n      }\n    },\n    {\n      \"column\": \"TSLA_Low\",\n      \"properties\": {\n        \"dtype\": \"number\",\n        \"std\": 854.9603377475486,\n        \"min\": 9.403332710266112,\n        \"max\": 2535.0,\n        \"num_unique_values\": 8,\n        \"samples\": [\n          128.8378311454427,\n          232.17000579833984,\n          2535.0\n        ],\n        \"semantic_type\": \"\",\n        \"description\": \"\"\n      }\n    },\n    {\n      \"column\": \"BND_Open\",\n      \"properties\": {\n        \"dtype\": \"number\",\n        \"std\": 875.5796910017425,\n        \"min\": 4.5559940376898815,\n        \"max\": 2535.0,\n        \"num_unique_values\": 8,\n        \"samples\": [\n          68.47139201560762,\n          71.88620438400122,\n          2535.0\n        ],\n        \"semantic_type\": \"\",\n        \"description\": \"\"\n      }\n    },\n    {\n      \"column\": \"SPY_Open\",\n      \"properties\": {\n        \"dtype\": \"number\",\n        \"std\": 801.2192325325492,\n        \"min\": 126.39113801220459,\n        \"max\": 2535.0,\n        \"num_unique_values\": 8,\n        \"samples\": [\n          334.1255370151694,\n          420.1174359669686,\n          2535.0\n        ],\n        \"semantic_type\": \"\",\n        \"description\": \"\"\n      }\n    },\n    {\n      \"column\": \"TSLA_Open\",\n      \"properties\": {\n        \"dtype\": \"number\",\n        \"std\": 854.3486919666037,\n        \"min\": 9.48799991607666,\n        \"max\": 2535.0,\n        \"num_unique_values\": 8,\n        \"samples\": [\n          132.00059963166126,\n          235.85166931152344,\n          2535.0\n        ],\n        \"semantic_type\": \"\",\n        \"description\": \"\"\n      }\n    },\n    {\n      \"column\": \"BND_Volume\",\n      \"properties\": {\n        \"dtype\": \"number\",\n        \"std\": 11214219.744132964,\n        \"min\": 0.0,\n        \"max\": 33963000.0,\n        \"num_unique_values\": 8,\n        \"samples\": [\n          4434375.818540434,\n          5890100.0,\n          2535.0\n        ],\n        \"semantic_type\": \"\",\n        \"description\": \"\"\n      }\n    },\n    {\n      \"column\": \"SPY_Volume\",\n      \"properties\": {\n        \"dtype\": \"number\",\n        \"std\": 163454042.98853785,\n        \"min\": 2535.0,\n        \"max\": 507244300.0,\n        \"num_unique_values\": 8,\n        \"samples\": [\n          85035205.24654832,\n          97891800.0,\n          2535.0\n        ],\n        \"semantic_type\": \"\",\n        \"description\": \"\"\n      }\n    },\n    {\n      \"column\": \"TSLA_Volume\",\n      \"properties\": {\n        \"dtype\": \"number\",\n        \"std\": 301733283.66404724,\n        \"min\": 2535.0,\n        \"max\": 914082000.0,\n        \"num_unique_values\": 8,\n        \"samples\": [\n          114178885.20710059,\n          132255100.0,\n          2535.0\n        ],\n        \"semantic_type\": \"\",\n        \"description\": \"\"\n      }\n    }\n  ]\n}"
            }
          },
          "metadata": {},
          "execution_count": 18
        }
      ]
    }
  ]
}